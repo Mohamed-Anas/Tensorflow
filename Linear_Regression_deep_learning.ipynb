{
 "cells": [
  {
   "cell_type": "code",
   "execution_count": 1,
   "metadata": {},
   "outputs": [],
   "source": [
    "%matplotlib inline\n",
    "import numpy as np\n",
    "import tensorflow as tf\n",
    "import matplotlib.pyplot as plt"
   ]
  },
  {
   "cell_type": "code",
   "execution_count": 2,
   "metadata": {},
   "outputs": [],
   "source": [
    "i = 0"
   ]
  },
  {
   "cell_type": "code",
   "execution_count": 35,
   "metadata": {},
   "outputs": [
    {
     "name": "stdout",
     "output_type": "stream",
     "text": [
      "W 1.1871504\n"
     ]
    }
   ],
   "source": [
    "weights = 0\n",
    "bias = 0\n",
    "batch_size = 100\n",
    "X_data = np.arange(100,step= 0.1)\n",
    "Y_data = X_data+30*np.sin(X_data/10)\n",
    "num_samples = X_data.shape[0]\n",
    "X_data = np.reshape(X_data,(X_data.shape[0],1))\n",
    "Y_data = np.reshape(Y_data,(Y_data.shape[0],1))\n",
    "X = tf.placeholder(tf.float32,shape = (batch_size,1))\n",
    "Y = tf.placeholder(tf.float32,shape = (batch_size,1))\n",
    "W = tf.Variable(np.random.randn(),dtype = tf.float32)\n",
    "b = tf.Variable(np.random.randn(),dtype = tf.float32)\n",
    "Y_pred = X*W+b\n",
    "loss  = tf.reduce_sum((Y-Y_pred)**2/batch_size)\n",
    "opt = tf.train.AdamOptimizer(learning_rate = 0.1)\n",
    "opt_operation = opt.minimize(loss)\n",
    "with tf.Session() as sess:\n",
    "    sess.run(tf.global_variables_initializer())\n",
    "    print(\"W\",sess.run(W))\n",
    "    for  _ in range(1000):\n",
    "        indices = np.random.choice(num_samples,batch_size)\n",
    "        _ ,los = sess.run([opt_operation,loss],feed_dict={X:X_data[indices],Y:Y_data[indices]})\n",
    "        weights,bias = (sess.run([W,b]))"
   ]
  },
  {
   "cell_type": "code",
   "execution_count": 13,
   "metadata": {},
   "outputs": [
    {
     "name": "stdout",
     "output_type": "stream",
     "text": [
      "[[0.03418176]]\n"
     ]
    }
   ],
   "source": [
    "with tf.Session() as sess:\n",
    "    sess.run(tf.global_variables_initializer())\n",
    "    print(sess.run(W))"
   ]
  },
  {
   "cell_type": "code",
   "execution_count": 34,
   "metadata": {},
   "outputs": [
    {
     "name": "stdout",
     "output_type": "stream",
     "text": [
      "-0.5697622 -0.47128364\n"
     ]
    }
   ],
   "source": [
    "with tf.Session() as sess:\n",
    "    sess.run(tf.global_variables_initializer())\n",
    "    weights,bias = sess.run([W,b])\n",
    "print(weights,bias)"
   ]
  },
  {
   "cell_type": "code",
   "execution_count": 36,
   "metadata": {},
   "outputs": [
    {
     "data": {
      "text/plain": [
       "[<matplotlib.lines.Line2D at 0x7f52f1c49518>]"
      ]
     },
     "execution_count": 36,
     "metadata": {},
     "output_type": "execute_result"
    },
    {
     "data": {
      "image/png": "[encoded data removed]",
      "text/plain": [
       "<matplotlib.figure.Figure at 0x7f52f1c494e0>"
      ]
     },
     "metadata": {},
     "output_type": "display_data"
    }
   ],
   "source": [
    "plt.plot(X_data,Y_data)\n",
    "plt.plot(X_data,X_data*weights+bias)"
   ]
  },
  {
   "cell_type": "code",
   "execution_count": null,
   "metadata": {},
   "outputs": [],
   "source": []
  }
 ],
 "metadata": {
  "kernelspec": {
   "display_name": "Python 3",
   "language": "python",
   "name": "python3"
  },
  "language_info": {
   "codemirror_mode": {
    "name": "ipython",
    "version": 3
   },
   "file_extension": ".py",
   "mimetype": "text/x-python",
   "name": "python",
   "nbconvert_exporter": "python",
   "pygments_lexer": "ipython3",
   "version": "3.6.6"
  }
 },
 "nbformat": 4,
 "nbformat_minor": 2
}
